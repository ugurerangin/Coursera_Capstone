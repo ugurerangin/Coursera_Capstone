{
 "cells": [
  {
   "cell_type": "markdown",
   "id": "b04645fb-f7df-4afa-8ceb-9debb487f9b4",
   "metadata": {},
   "source": [
    "<a href=\"https://cognitiveclass.ai\"><img src = \"https://cf-courses-data.s3.us.cloud-object-storage.appdomain.cloud/IBMDeveloperSkillsNetwork-DS0701EN-SkillsNetwork/labs_v1/IDSNlogo.png\" width = 400> </a>\n",
    "\n",
    "<h1 align=center><font size = 5>Berlin Introduction and Data Description</font></h1>"
   ]
  },
  {
   "cell_type": "markdown",
   "id": "b51d87fb-2f01-4bcf-82b5-3840c0c4a489",
   "metadata": {},
   "source": [
    "## Data Description"
   ]
  },
  {
   "cell_type": "markdown",
   "id": "e34777f8-ff20-4760-bf8e-c10c59a970b2",
   "metadata": {},
   "source": [
    "Given the concept above, here is the list of data that I used :\n",
    "\n",
    "* Venues data with 500 meters radius extracted from Foursquare API,\n",
    "* GeoJSON file for geographical boundries’ coordinates of 96 neighborhoods of Berlin from Statistische Ämter des Bundes und der Länder\n",
    "* I created a dataset from Wikipedia pages: https://de.wikipedia.org/wiki/Verwaltungsgliederung_Berlins and https://en.wikipedia.org/wiki/Boroughs_and_neighborhoods_of_Berlin for names of Berlin’s boroughs and neighborhoods and from a Github user (https://juanitorduz.github.io/germany_plots/), I used and adapted a function to obtain geographical center coordinates of these neighborhoods. \n",
    "* I scraped this Wikipedia page (https://de.wikipedia.org/wiki/Verwaltungsgliederung_Berlins) to retrieve population and density data of neighborhoods and boroughs. "
   ]
  },
  {
   "cell_type": "markdown",
   "id": "70712246-1aba-42f6-a9bb-1e806e1f74f5",
   "metadata": {},
   "source": [
    "I will use the Foursquare API to fetch the most common venues in every neighborhood with 500 meters radius. With these venues I am going to use k-means clustering algorithm to cluster the neighborhoods to determine venue categories that distinguish each other. <br>\n",
    "I will use the GeoJSON file with Python package Folium to visualize each neighborhood’s density and try to decide where could be the most promising area to invest money. <br>\n",
    "Lastly, I will try to create my own dataset with for neighborhoods’ center coordinates."
   ]
  },
  {
   "cell_type": "code",
   "execution_count": null,
   "id": "bcddc5c6-e40b-4132-ba53-e8da4d4725ef",
   "metadata": {},
   "outputs": [],
   "source": []
  }
 ],
 "metadata": {
  "kernelspec": {
   "display_name": "Python",
   "language": "python",
   "name": "conda-env-python-py"
  },
  "language_info": {
   "codemirror_mode": {
    "name": "ipython",
    "version": 3
   },
   "file_extension": ".py",
   "mimetype": "text/x-python",
   "name": "python",
   "nbconvert_exporter": "python",
   "pygments_lexer": "ipython3",
   "version": "3.6.13"
  }
 },
 "nbformat": 4,
 "nbformat_minor": 5
}
