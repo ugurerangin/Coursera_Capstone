{
 "cells": [
  {
   "cell_type": "markdown",
   "id": "29eab847-8423-41e3-968e-f021eb4bd1eb",
   "metadata": {},
   "source": [
    "<a href=\"https://cognitiveclass.ai\"><img src = \"https://cf-courses-data.s3.us.cloud-object-storage.appdomain.cloud/IBMDeveloperSkillsNetwork-DS0701EN-SkillsNetwork/labs_v1/IDSNlogo.png\" width = 400> </a>\n",
    "\n",
    "<h1 align=center><font size = 5>Berlin Introduction and Data Description</font></h1>"
   ]
  },
  {
   "cell_type": "markdown",
   "id": "3f0c3d1a-21cf-42e3-9bc6-49c029f2cd5a",
   "metadata": {},
   "source": [
    "Berlin : A City Guide for Investors Through Data Analysis\n",
    "## Introduction\n",
    "Berlin is the capital and largest city of Germany by both area and population. With its approximately 3.5 million inhabitants, there might always be good business and entrepreneurship opportunities for investors. As of 2020, Berlin has €154.6 Billion GDP and 3.3% economic decline due to Covid-19 pandemic throughout the year.[<sup>1</sup>](#fn1)   Berlin’s economy is almost based on services sector, 84% of companies conducting business in services sector.[<sup>2</sup>](#fn2)   \n",
    "Even though there is a slight decline in Berlin’s GDP in 2020 due to Covid-19 pandemic, after widespread vaccinations started, the restrictions and measures are expected to be gradually lifted and the economy will be booming again for Berlin. That is why I imagined that I am working for an investing company and they asked me to do feasibility work and business analysis for possible services sector investments for future. As we can see from below figure, there is a steady growth in Berlin’s economy since last 10 years[<sup>3</sup>](#fn3) which makes Berlin a good candidate for new investment prospects. However, there are thousands of business models, companies, small scale shops, cafes, restaurants. Which business is the best type and where should it be located in the city ? I will try to answer these two key questions with various data science methods that I have learned on the IBM Data Science Professional Certificate.\n"
   ]
  },
  {
   "cell_type": "code",
   "execution_count": 1,
   "id": "2cb9f215-74c1-438e-9815-65ad350701c2",
   "metadata": {
    "collapsed": true,
    "jupyter": {
     "outputs_hidden": true,
     "source_hidden": true
    },
    "tags": []
   },
   "outputs": [
    {
     "data": {
      "text/html": [
       "<div>\n",
       "<style scoped>\n",
       "    .dataframe tbody tr th:only-of-type {\n",
       "        vertical-align: middle;\n",
       "    }\n",
       "\n",
       "    .dataframe tbody tr th {\n",
       "        vertical-align: top;\n",
       "    }\n",
       "\n",
       "    .dataframe thead th {\n",
       "        text-align: right;\n",
       "    }\n",
       "</style>\n",
       "<table border=\"1\" class=\"dataframe\">\n",
       "  <thead>\n",
       "    <tr style=\"text-align: right;\">\n",
       "      <th></th>\n",
       "      <th>Year</th>\n",
       "      <th>gdp</th>\n",
       "    </tr>\n",
       "  </thead>\n",
       "  <tbody>\n",
       "    <tr>\n",
       "      <th>0</th>\n",
       "      <td>2009</td>\n",
       "      <td>99191.642</td>\n",
       "    </tr>\n",
       "    <tr>\n",
       "      <th>1</th>\n",
       "      <td>2010</td>\n",
       "      <td>103051.696</td>\n",
       "    </tr>\n",
       "    <tr>\n",
       "      <th>2</th>\n",
       "      <td>2011</td>\n",
       "      <td>108111.270</td>\n",
       "    </tr>\n",
       "    <tr>\n",
       "      <th>3</th>\n",
       "      <td>2012</td>\n",
       "      <td>109771.987</td>\n",
       "    </tr>\n",
       "    <tr>\n",
       "      <th>4</th>\n",
       "      <td>2013</td>\n",
       "      <td>112881.339</td>\n",
       "    </tr>\n",
       "    <tr>\n",
       "      <th>5</th>\n",
       "      <td>2014</td>\n",
       "      <td>118518.729</td>\n",
       "    </tr>\n",
       "    <tr>\n",
       "      <th>6</th>\n",
       "      <td>2015</td>\n",
       "      <td>124995.885</td>\n",
       "    </tr>\n",
       "    <tr>\n",
       "      <th>7</th>\n",
       "      <td>2016</td>\n",
       "      <td>133218.231</td>\n",
       "    </tr>\n",
       "    <tr>\n",
       "      <th>8</th>\n",
       "      <td>2017</td>\n",
       "      <td>139266.007</td>\n",
       "    </tr>\n",
       "    <tr>\n",
       "      <th>9</th>\n",
       "      <td>2018</td>\n",
       "      <td>145547.125</td>\n",
       "    </tr>\n",
       "  </tbody>\n",
       "</table>\n",
       "</div>"
      ],
      "text/plain": [
       "   Year         gdp\n",
       "0  2009   99191.642\n",
       "1  2010  103051.696\n",
       "2  2011  108111.270\n",
       "3  2012  109771.987\n",
       "4  2013  112881.339\n",
       "5  2014  118518.729\n",
       "6  2015  124995.885\n",
       "7  2016  133218.231\n",
       "8  2017  139266.007\n",
       "9  2018  145547.125"
      ]
     },
     "execution_count": 1,
     "metadata": {},
     "output_type": "execute_result"
    }
   ],
   "source": [
    "import pandas as pd # library for data analsysis\n",
    "import matplotlib.pyplot as plt\n",
    "df = pd.read_csv('berlin_gdp2.csv')\n",
    "df"
   ]
  },
  {
   "cell_type": "code",
   "execution_count": 2,
   "id": "8e31e4ef-fb53-4f1d-add4-c27b9095c6a7",
   "metadata": {
    "jupyter": {
     "source_hidden": true
    },
    "tags": []
   },
   "outputs": [
    {
     "data": {
      "text/plain": [
       "Text(0.5, 0, 'Years')"
      ]
     },
     "execution_count": 2,
     "metadata": {},
     "output_type": "execute_result"
    },
    {
     "data": {
      "image/png": "[encoded data removed]",
      "text/plain": [
       "<Figure size 432x288 with 1 Axes>"
      ]
     },
     "metadata": {
      "needs_background": "light"
     },
     "output_type": "display_data"
    }
   ],
   "source": [
    "df.plot(x ='Year', y='gdp', kind = 'line')\n",
    "plt.title('GDP of Berlin Between 2009-2018')\n",
    "plt.ylabel('GDP in million Euro')\n",
    "plt.xlabel('Years')"
   ]
  },
  {
   "cell_type": "markdown",
   "id": "4b8b6c7a-b927-46b6-9a12-28ce6e72c406",
   "metadata": {},
   "source": [
    "## Data Description"
   ]
  },
  {
   "cell_type": "markdown",
   "id": "28c45a11-2494-49d7-8d9e-8d6fb21a44e6",
   "metadata": {},
   "source": [
    "Given the concept above, here is the list of data that I used :\n",
    "\n",
    "* Venues data with 500 meters radius extracted from Foursquare API,\n",
    "* GeoJSON file for geographical boundries’ coordinates of 96 neighborhoods of Berlin from Statistische Ämter des Bundes und der Länder\n",
    "* I created a dataset from Wikipedia pages: https://de.wikipedia.org/wiki/Verwaltungsgliederung_Berlins and https://en.wikipedia.org/wiki/Boroughs_and_neighborhoods_of_Berlin for names of Berlin’s boroughs and neighborhoods and from a Github user (https://juanitorduz.github.io/germany_plots/), I used and adapted a function to obtain geographical center coordinates of these neighborhoods. \n",
    "* I scraped this Wikipedia page (https://de.wikipedia.org/wiki/Verwaltungsgliederung_Berlins) to retrieve population and density data of neighborhoods and boroughs. \n"
   ]
  },
  {
   "cell_type": "markdown",
   "id": "ec037783-c469-431b-8b56-f86f5d207db9",
   "metadata": {},
   "source": [
    "I will use the Foursquare API to fetch the most common venues in every neighborhood with 500 meters radius. With these venues I am going to use k-means clustering algorithm to cluster the neighborhoods to determine venue categories that distinguish each other. \n",
    "I will use the GeoJSON file with Python package Folium to visualize each neighborhood’s density and try to decide where could be the most promising area to invest money. \n",
    "Lastly, I will try to create my own dataset with for neighborhoods’ center coordinates.\n"
   ]
  },
  {
   "cell_type": "markdown",
   "id": "354b07b6-7921-4489-8a50-cd138cc6042e",
   "metadata": {},
   "source": [
    "<span id=\"fn1\">1.\"Amt für Statistik Berlin Brandenburg – Statistiken\". Amt für Statistik Berlin-Brandenburg</span>"
   ]
  },
  {
   "cell_type": "markdown",
   "id": "10769d13-9ef5-432d-a1d4-f7719e078ae2",
   "metadata": {},
   "source": [
    "<span id=\"fn1\">2. https://en.wikipedia.org/wiki/Berlin#Economy </span>"
   ]
  },
  {
   "cell_type": "markdown",
   "id": "3a940e87-2157-4588-af5c-f6a947bd5940",
   "metadata": {},
   "source": [
    "<span id=\"fn1\">3. https://www.statistikportal.de/de/vgrdl/ergebnisse-laenderebene/bruttoinlandsprodukt-bruttowertschoepfung</span>"
   ]
  }
 ],
 "metadata": {
  "kernelspec": {
   "display_name": "Python",
   "language": "python",
   "name": "conda-env-python-py"
  },
  "language_info": {
   "codemirror_mode": {
    "name": "ipython",
    "version": 3
   },
   "file_extension": ".py",
   "mimetype": "text/x-python",
   "name": "python",
   "nbconvert_exporter": "python",
   "pygments_lexer": "ipython3",
   "version": "3.6.13"
  }
 },
 "nbformat": 4,
 "nbformat_minor": 5
}
